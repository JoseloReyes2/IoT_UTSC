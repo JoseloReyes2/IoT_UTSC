{
  "nbformat": 4,
  "nbformat_minor": 0,
  "metadata": {
    "colab": {
      "provenance": [],
      "toc_visible": true,
      "collapsed_sections": [],
      "authorship_tag": "ABX9TyP61+UePCm764NEp/jhDSgA",
      "include_colab_link": true
    },
    "kernelspec": {
      "name": "python3",
      "display_name": "Python 3"
    },
    "language_info": {
      "name": "python"
    }
  },
  "cells": [
    {
      "cell_type": "markdown",
      "metadata": {
        "id": "view-in-github",
        "colab_type": "text"
      },
      "source": [
        "<a href=\"https://colab.research.google.com/github/JoseloReyes2/IoT_UTSC/blob/main/Ejercicio1.ipynb\" target=\"_parent\"><img src=\"https://colab.research.google.com/assets/colab-badge.svg\" alt=\"Open In Colab\"/></a>"
      ]
    },
    {
      "cell_type": "code",
      "source": [
        "#Aplicaciones de IoT\n",
        "#Jose Enrique Carranza Reyes - 18882\n",
        "print (\"Desarrollo Móvil Multiplataforma\")\n",
        "print (\"Aplicaciones de IoT\")\n",
        "print (\"Base de Datos para Cómputo para la Nube\")\n",
        "print (\"Inglés V\")\n",
        "print (\"Aplicaciónes Web para I 4.0\")\n",
        "print (\"Expresión Oral y Esctrita II\")\n",
        "print (\"Integradora II\")"
      ],
      "metadata": {
        "colab": {
          "base_uri": "https://localhost:8080/"
        },
        "id": "_oXZMevRiyXU",
        "outputId": "0cef3b32-b427-4aab-8243-425d1c59dea0"
      },
      "execution_count": null,
      "outputs": [
        {
          "output_type": "stream",
          "name": "stdout",
          "text": [
            "Desarrollo Móvil Multiplataforma\n",
            "Aplicaciones de IoT\n",
            "Base de Datos para Cómputo para la Nube\n",
            "Inglés V\n",
            "Aplicaciónes Web para I 4.0\n",
            "Expresión Oral y Esctrita II\n",
            "Integradora II\n"
          ]
        }
      ]
    },
    {
      "cell_type": "code",
      "source": [
        "#\"Metoo string convertido a int\")\n",
        "Edad = input (\"Favor de teclear su edad \")\n",
        "Edad = int (Edad)"
      ],
      "metadata": {
        "colab": {
          "base_uri": "https://localhost:8080/"
        },
        "id": "948uladxl9MR",
        "outputId": "4ba6908e-c47f-4883-8143-c998172a4d02"
      },
      "execution_count": null,
      "outputs": [
        {
          "name": "stdout",
          "output_type": "stream",
          "text": [
            "Favor de teclear su edad 23\n"
          ]
        }
      ]
    },
    {
      "cell_type": "code",
      "source": [
        "#Metodo directo a convertir a int\n",
        "Edad = int(input (\"Favor de teclear su edad \"))"
      ],
      "metadata": {
        "id": "wJnvjuTEn6yv"
      },
      "execution_count": null,
      "outputs": []
    },
    {
      "cell_type": "code",
      "source": [
        "Edad = int(input(\"Favor de teclear su edad \"))\n",
        "if (Edad > 17):\n",
        "  print(\"puede cojer\")\n",
        "else:\n",
        "  print (\"no puede cojer\")\n",
        "print (\"Muchas Gracias\")"
      ],
      "metadata": {
        "colab": {
          "base_uri": "https://localhost:8080/"
        },
        "id": "x1gZ39Qun9Nz",
        "outputId": "799652b9-9647-4725-a152-3f31362604ba"
      },
      "execution_count": null,
      "outputs": [
        {
          "output_type": "stream",
          "name": "stdout",
          "text": [
            "Favor de teclear su edad 10\n",
            "no puede cojer\n",
            "Muchas Gracias\n"
          ]
        }
      ]
    }
  ]
}